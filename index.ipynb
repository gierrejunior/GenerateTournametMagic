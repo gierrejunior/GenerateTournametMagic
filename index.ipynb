{
 "cells": [
  {
   "cell_type": "markdown",
   "metadata": {},
   "source": []
  },
  {
   "cell_type": "code",
   "execution_count": 6,
   "metadata": {},
   "outputs": [],
   "source": [
    "from interfaces.list_manager import ListManager\n",
    "from magic_random.generator_magic_duels import DuelsType"
   ]
  },
  {
   "cell_type": "code",
   "execution_count": 7,
   "metadata": {},
   "outputs": [
    {
     "data": {
      "application/vnd.jupyter.widget-view+json": {
       "model_id": "ba310116b733477695c197b2138be850",
       "version_major": 2,
       "version_minor": 0
      },
      "text/plain": [
       "Text(value='', description='Digite o nome do jogador:')"
      ]
     },
     "metadata": {},
     "output_type": "display_data"
    },
    {
     "data": {
      "application/vnd.jupyter.widget-view+json": {
       "model_id": "2c425fcab38f4598b4fcfa2b9a9f33c3",
       "version_major": 2,
       "version_minor": 0
      },
      "text/plain": [
       "Button(description='Adicionar Item', style=ButtonStyle())"
      ]
     },
     "metadata": {},
     "output_type": "display_data"
    },
    {
     "data": {
      "application/vnd.jupyter.widget-view+json": {
       "model_id": "ed8e08fc127341b3872839bdf7bdf9e1",
       "version_major": 2,
       "version_minor": 0
      },
      "text/plain": [
       "Button(description='Remover Último Item', style=ButtonStyle())"
      ]
     },
     "metadata": {},
     "output_type": "display_data"
    },
    {
     "name": "stdout",
     "output_type": "stream",
     "text": [
      "Gierre\n",
      "['Gierre']\n",
      "Bombom\n",
      "['Gierre', 'Bombom']\n",
      "Último item removido: Bombom\n",
      "['Gierre']\n",
      "Thiago\n",
      "['Gierre', 'Thiago']\n"
     ]
    }
   ],
   "source": [
    "# Exemplo de uso para uma lista de jogadores\n",
    "gerenciador_players = ListManager(\n",
    "    descricao_caixa='Digite o nome do jogador:')"
   ]
  },
  {
   "cell_type": "code",
   "execution_count": 8,
   "metadata": {},
   "outputs": [
    {
     "name": "stdout",
     "output_type": "stream",
     "text": [
      "Lista de jogadores: ['Gierre', 'Thiago']\n"
     ]
    }
   ],
   "source": [
    "# Para obter as listas, use:\n",
    "lista_players = gerenciador_players.finalizar(None)\n",
    "print(\"Lista de jogadores:\", lista_players)\n"
   ]
  },
  {
   "cell_type": "code",
   "execution_count": 9,
   "metadata": {},
   "outputs": [
    {
     "data": {
      "application/vnd.jupyter.widget-view+json": {
       "model_id": "7bda48f62c454af9b6908eaabd4b88dd",
       "version_major": 2,
       "version_minor": 0
      },
      "text/plain": [
       "Text(value='', description='Digite o nome do deck:')"
      ]
     },
     "metadata": {},
     "output_type": "display_data"
    },
    {
     "data": {
      "application/vnd.jupyter.widget-view+json": {
       "model_id": "63481504782e4e0e95c773dd0b783298",
       "version_major": 2,
       "version_minor": 0
      },
      "text/plain": [
       "Button(description='Adicionar Item', style=ButtonStyle())"
      ]
     },
     "metadata": {},
     "output_type": "display_data"
    },
    {
     "data": {
      "application/vnd.jupyter.widget-view+json": {
       "model_id": "e65309c6c84c45468e8a05e7463a3112",
       "version_major": 2,
       "version_minor": 0
      },
      "text/plain": [
       "Button(description='Remover Último Item', style=ButtonStyle())"
      ]
     },
     "metadata": {},
     "output_type": "display_data"
    },
    {
     "name": "stdout",
     "output_type": "stream",
     "text": [
      "asdasd\n",
      "['asdasd']\n",
      "asfasf\n",
      "['asdasd', 'asfasf']\n"
     ]
    }
   ],
   "source": [
    "# Exemplo de uso para uma lista de decks\n",
    "gerenciador_decks = ListManager(descricao_caixa='Digite o nome do deck:')"
   ]
  },
  {
   "cell_type": "code",
   "execution_count": 10,
   "metadata": {},
   "outputs": [
    {
     "name": "stdout",
     "output_type": "stream",
     "text": [
      "Lista de decks: ['asdasd', 'asfasf']\n"
     ]
    }
   ],
   "source": [
    "lista_decks = gerenciador_decks.finalizar(None)\n",
    "print(\"Lista de decks:\", lista_decks)"
   ]
  },
  {
   "cell_type": "code",
   "execution_count": null,
   "metadata": {},
   "outputs": [],
   "source": []
  }
 ],
 "metadata": {
  "kernelspec": {
   "display_name": "venv",
   "language": "python",
   "name": "python3"
  },
  "language_info": {
   "codemirror_mode": {
    "name": "ipython",
    "version": 3
   },
   "file_extension": ".py",
   "mimetype": "text/x-python",
   "name": "python",
   "nbconvert_exporter": "python",
   "pygments_lexer": "ipython3",
   "version": "3.11.1"
  }
 },
 "nbformat": 4,
 "nbformat_minor": 2
}
